{
 "cells": [
  {
   "cell_type": "code",
   "execution_count": 23,
   "id": "ef6aa971",
   "metadata": {},
   "outputs": [],
   "source": [
    "# Import libraries\n",
    "#   File management\n",
    "from tkinter import filedialog  # For selecting files\n",
    "import os  # For directory management\n",
    "import glob\n",
    "import shutil\n",
    "#   Number, file, and image management\n",
    "import cv2  # Computer vision/image processing\n",
    "from scipy.ndimage import label\n",
    "from skimage import measure, util\n",
    "import seaborn as sns\n",
    "from sklearn.model_selection import train_test_split  # For machine learning approach\n",
    "from sklearn.neighbors import KNeighborsClassifier  # \"\"\n",
    "from sklearn.linear_model import LogisticRegression  # \" \"\n",
    "from sklearn.metrics import confusion_matrix  # \" \"\n",
    "from sklearn.metrics import accuracy_score, recall_score, precision_score, f1_score  # \" \"\n",
    "import numpy as np  # For array management\n",
    "import pandas as pd  # For database management\n",
    "import random\n",
    "from pandas import Series\n",
    "#   Plotting results\n",
    "import matplotlib.pyplot as plt  # For plotting result data\n",
    "import matplotlib.patches as mpatches  # For keys"
   ]
  },
  {
   "cell_type": "code",
   "execution_count": 24,
   "id": "71842c22",
   "metadata": {},
   "outputs": [],
   "source": [
    "# Provide pathways to:\n",
    "\n",
    "# 1. Sheet with all classifications, with classifications from each scan on a different sheet\n",
    "class_sheet = '/path to/TRAIN7.xlsx'\n",
    "\n",
    "# 2. Directory of excel files, with data from each scan represented within a different excel sheet\n",
    "quant_folder = '/path to/TRAINall'\n",
    "\n",
    "# Sheet names and corresponding excel file fraddl_scan_path = '/Users/dominickhellen/Documents/Karpen Lab/Machine Learning/Validation/X-16W KO11_Scan1.qptiff - resolution #1/Numerical analysis'ames must match exactly\n",
    "\n",
    "os.chdir(os.path.dirname(class_sheet))"
   ]
  },
  {
   "cell_type": "code",
   "execution_count": 25,
   "id": "c96a5faa",
   "metadata": {},
   "outputs": [
    {
     "name": "stdout",
     "output_type": "stream",
     "text": [
      "['/Users/dominickhellen/Documents/Karpen Lab/Machine Learning/New tiles for classification/DATAr/16WCTL4.xlsx', '/Users/dominickhellen/Documents/Karpen Lab/Machine Learning/New tiles for classification/DATAr/CB.xlsx', '/Users/dominickhellen/Documents/Karpen Lab/Machine Learning/New tiles for classification/DATAr/CTL1.xlsx', '/Users/dominickhellen/Documents/Karpen Lab/Machine Learning/New tiles for classification/DATAr/CTL6.xlsx', '/Users/dominickhellen/Documents/Karpen Lab/Machine Learning/New tiles for classification/DATAr/KO1.xlsx', '/Users/dominickhellen/Documents/Karpen Lab/Machine Learning/New tiles for classification/DATAr/KO5.xlsx', '/Users/dominickhellen/Documents/Karpen Lab/Machine Learning/New tiles for classification/DATAr/P30BDL.xlsx']\n"
     ]
    }
   ],
   "source": [
    "# Make a list of excel files\n",
    "# When making the list of excel files, ensure no files are currently open (will see $ describing file names)\n",
    "names = sorted(glob.glob(quant_folder + '/*.xlsx'))\n",
    "print(names)"
   ]
  },
  {
   "cell_type": "code",
   "execution_count": 26,
   "id": "fad0811f",
   "metadata": {},
   "outputs": [],
   "source": [
    "# Create test/train data by appending features to classified events\n",
    "\n",
    "# Combine all data into one large data frame\n",
    "df = pd.DataFrame()\n",
    "\n",
    "for filename in names:\n",
    "    \n",
    "    # Read excel file and add scan name\n",
    "    excel = pd.read_excel(filename, engine='openpyxl')\n",
    "    scan_name = os.path.basename(filename).split('.')[0]\n",
    "    excel['Scan'] = scan_name\n",
    "    \n",
    "    # Read corresponding sheet on class file, add additional NaN elements to match length of dataframe, and append\n",
    "    classes = pd.read_excel(class_sheet, sheet_name=scan_name, engine='openpyxl')\n",
    "    \n",
    "    n_events = len(excel)\n",
    "    n_classes = len(classes)\n",
    "    \n",
    "    class_vector = classes['Class'].tolist() + [np.nan]*(n_events - n_classes)  # Will convert to categorical\n",
    "    \n",
    "    excel['Class'] = class_vector\n",
    "    \n",
    "    df = df.append(excel, ignore_index=True)"
   ]
  },
  {
   "cell_type": "code",
   "execution_count": 27,
   "id": "0a89de78",
   "metadata": {},
   "outputs": [
    {
     "data": {
      "text/html": [
       "<div>\n",
       "<style scoped>\n",
       "    .dataframe tbody tr th:only-of-type {\n",
       "        vertical-align: middle;\n",
       "    }\n",
       "\n",
       "    .dataframe tbody tr th {\n",
       "        vertical-align: top;\n",
       "    }\n",
       "\n",
       "    .dataframe thead th {\n",
       "        text-align: right;\n",
       "    }\n",
       "</style>\n",
       "<table border=\"1\" class=\"dataframe\">\n",
       "  <thead>\n",
       "    <tr style=\"text-align: right;\">\n",
       "      <th></th>\n",
       "      <th>Image</th>\n",
       "      <th>Index</th>\n",
       "      <th>Area</th>\n",
       "      <th>Eccentricity</th>\n",
       "      <th>Min. axis</th>\n",
       "      <th>Major axis</th>\n",
       "      <th>Solidity</th>\n",
       "      <th>Perimeter</th>\n",
       "      <th>Extent</th>\n",
       "      <th>Euler</th>\n",
       "      <th>feret_diameter_max</th>\n",
       "      <th>Scan</th>\n",
       "      <th>Class</th>\n",
       "    </tr>\n",
       "  </thead>\n",
       "  <tbody>\n",
       "    <tr>\n",
       "      <th>0</th>\n",
       "      <td>CTL 4</td>\n",
       "      <td>Scan1.qptiff - resolution #1</td>\n",
       "      <td>539.0</td>\n",
       "      <td>0.772079</td>\n",
       "      <td>30.935741</td>\n",
       "      <td>48.677353</td>\n",
       "      <td>0.375610</td>\n",
       "      <td>271.267027</td>\n",
       "      <td>0.267361</td>\n",
       "      <td>0</td>\n",
       "      <td>57.489129</td>\n",
       "      <td>16WCTL4</td>\n",
       "      <td>dp</td>\n",
       "    </tr>\n",
       "    <tr>\n",
       "      <th>1</th>\n",
       "      <td>CTL 4</td>\n",
       "      <td>Scan1.qptiff - resolution #1</td>\n",
       "      <td>575.0</td>\n",
       "      <td>0.987372</td>\n",
       "      <td>17.060276</td>\n",
       "      <td>107.691301</td>\n",
       "      <td>0.387205</td>\n",
       "      <td>306.302561</td>\n",
       "      <td>0.225667</td>\n",
       "      <td>-1</td>\n",
       "      <td>98.005102</td>\n",
       "      <td>16WCTL4</td>\n",
       "      <td>dp</td>\n",
       "    </tr>\n",
       "    <tr>\n",
       "      <th>2</th>\n",
       "      <td>CTL 4</td>\n",
       "      <td>Scan1.qptiff - resolution #1</td>\n",
       "      <td>404.0</td>\n",
       "      <td>0.960873</td>\n",
       "      <td>19.119818</td>\n",
       "      <td>69.027452</td>\n",
       "      <td>0.372694</td>\n",
       "      <td>168.089358</td>\n",
       "      <td>0.221978</td>\n",
       "      <td>1</td>\n",
       "      <td>66.490601</td>\n",
       "      <td>16WCTL4</td>\n",
       "      <td>dp</td>\n",
       "    </tr>\n",
       "    <tr>\n",
       "      <th>3</th>\n",
       "      <td>CTL 4</td>\n",
       "      <td>Scan1.qptiff - resolution #1</td>\n",
       "      <td>96.0</td>\n",
       "      <td>0.690870</td>\n",
       "      <td>10.972314</td>\n",
       "      <td>15.176531</td>\n",
       "      <td>0.721805</td>\n",
       "      <td>46.349242</td>\n",
       "      <td>0.492308</td>\n",
       "      <td>1</td>\n",
       "      <td>15.811388</td>\n",
       "      <td>16WCTL4</td>\n",
       "      <td>sc</td>\n",
       "    </tr>\n",
       "    <tr>\n",
       "      <th>4</th>\n",
       "      <td>CTL 4</td>\n",
       "      <td>Scan1.qptiff - resolution #1</td>\n",
       "      <td>1090.0</td>\n",
       "      <td>0.968300</td>\n",
       "      <td>24.405340</td>\n",
       "      <td>97.702910</td>\n",
       "      <td>0.563599</td>\n",
       "      <td>400.599026</td>\n",
       "      <td>0.298222</td>\n",
       "      <td>-2</td>\n",
       "      <td>93.107465</td>\n",
       "      <td>16WCTL4</td>\n",
       "      <td>cb</td>\n",
       "    </tr>\n",
       "  </tbody>\n",
       "</table>\n",
       "</div>"
      ],
      "text/plain": [
       "   Image                         Index    Area  Eccentricity  Min. axis  \\\n",
       "0  CTL 4  Scan1.qptiff - resolution #1   539.0      0.772079  30.935741   \n",
       "1  CTL 4  Scan1.qptiff - resolution #1   575.0      0.987372  17.060276   \n",
       "2  CTL 4  Scan1.qptiff - resolution #1   404.0      0.960873  19.119818   \n",
       "3  CTL 4  Scan1.qptiff - resolution #1    96.0      0.690870  10.972314   \n",
       "4  CTL 4  Scan1.qptiff - resolution #1  1090.0      0.968300  24.405340   \n",
       "\n",
       "   Major axis  Solidity   Perimeter    Extent  Euler  feret_diameter_max  \\\n",
       "0   48.677353  0.375610  271.267027  0.267361      0           57.489129   \n",
       "1  107.691301  0.387205  306.302561  0.225667     -1           98.005102   \n",
       "2   69.027452  0.372694  168.089358  0.221978      1           66.490601   \n",
       "3   15.176531  0.721805   46.349242  0.492308      1           15.811388   \n",
       "4   97.702910  0.563599  400.599026  0.298222     -2           93.107465   \n",
       "\n",
       "      Scan Class  \n",
       "0  16WCTL4    dp  \n",
       "1  16WCTL4    dp  \n",
       "2  16WCTL4    dp  \n",
       "3  16WCTL4    sc  \n",
       "4  16WCTL4    cb  "
      ]
     },
     "execution_count": 27,
     "metadata": {},
     "output_type": "execute_result"
    }
   ],
   "source": [
    "df.head()"
   ]
  },
  {
   "cell_type": "code",
   "execution_count": 28,
   "id": "33188c3a",
   "metadata": {},
   "outputs": [
    {
     "name": "stdout",
     "output_type": "stream",
     "text": [
      "5255\n",
      "['dp' 'sc' 'cb' 'm']\n",
      "['dp' 'sc' 'cb' 'm']\n"
     ]
    }
   ],
   "source": [
    "# Clean test/train data dataframe\n",
    "df = df.fillna('0')  # Replace nan with element easier to excel\n",
    "df_for_model = df[df['Class'] != '0']\n",
    "print(len(df_for_model))\n",
    "\n",
    "# Are labels consistent?\n",
    "print(df_for_model['Class'].unique())\n",
    "\n",
    "# Clean up as necessary\n",
    "df_for_model = df_for_model.replace('m ', 'm')\n",
    "df_for_model = df_for_model.replace('c', 'cb')\n",
    "print(df_for_model['Class'].unique())"
   ]
  },
  {
   "cell_type": "code",
   "execution_count": 29,
   "id": "06846e24",
   "metadata": {},
   "outputs": [
    {
     "name": "stdout",
     "output_type": "stream",
     "text": [
      "sc    2732\n",
      "dp    1609\n",
      "cb     657\n",
      "m      257\n",
      "Name: Class, dtype: int64 \n",
      "\n"
     ]
    }
   ],
   "source": [
    "# How many of each label is present?\n",
    "print(df_for_model['Class'].value_counts(), '\\n')"
   ]
  },
  {
   "cell_type": "code",
   "execution_count": 30,
   "id": "49e2bb1e",
   "metadata": {},
   "outputs": [],
   "source": [
    "# Select only relevant columns\n",
    "df_for_model = df_for_model[['Area', 'Extent', 'Solidity', 'Perimeter', 'Euler', 'feret_diameter_max', 'Eccentricity', 'Min. axis', 'Major axis', 'Scan', 'Class']]"
   ]
  },
  {
   "cell_type": "code",
   "execution_count": 31,
   "id": "65008d17",
   "metadata": {},
   "outputs": [
    {
     "name": "stdout",
     "output_type": "stream",
     "text": [
      "5016\n"
     ]
    }
   ],
   "source": [
    "# Create a dataframe of all other data for future classification\n",
    "df_for_quant = df[df['Class'] == '0']\n",
    "df_for_quant.head()\n",
    "print(len(df_for_quant))"
   ]
  },
  {
   "cell_type": "code",
   "execution_count": 32,
   "id": "d9a92e59",
   "metadata": {},
   "outputs": [],
   "source": [
    "from imblearn.over_sampling import SMOTE\n",
    "oversample = SMOTE()"
   ]
  },
  {
   "cell_type": "code",
   "execution_count": 33,
   "id": "2a071e30",
   "metadata": {},
   "outputs": [
    {
     "name": "stdout",
     "output_type": "stream",
     "text": [
      "    Area  Solidity  Euler  Eccentricity\n",
      "0  539.0  0.375610      0      0.772079\n",
      "1  575.0  0.387205     -1      0.987372\n",
      "2  404.0  0.372694      1      0.960873 \n",
      "\n",
      "0    dp\n",
      "1    dp\n",
      "2    dp\n",
      "3    sc\n",
      "4    cb\n",
      "5    sc\n",
      "6     m\n",
      "7    sc\n",
      "8    sc\n",
      "9    sc\n",
      "Name: Class, dtype: object\n"
     ]
    }
   ],
   "source": [
    "# Data preparation for machine learning - create an X block (features) and a y block (classes)\n",
    "X_v3 = df_for_model.drop(['Scan','Major axis', 'Class','Min. axis', 'Perimeter', 'Extent', 'feret_diameter_max'], axis = 1)\n",
    "print(X_v3.head(3), '\\n')\n",
    "\n",
    "X_v3_feature_names = X_v3.columns\n",
    "\n",
    "y = df_for_model.loc[:, 'Class']\n",
    "target_class = 'cb'\n",
    "y1 = df_for_model[df_for_model['Class'] == target_class]\n",
    "print(y.head(10))"
   ]
  },
  {
   "cell_type": "code",
   "execution_count": 34,
   "id": "39e6b477",
   "metadata": {},
   "outputs": [
    {
     "name": "stdout",
     "output_type": "stream",
     "text": [
      "Original length: 5255\n",
      "New length: 10928\n"
     ]
    }
   ],
   "source": [
    "X_v3_rs, y_v3_rs = oversample.fit_resample(X_v3, y)\n",
    "print('Original length: ' + str(len(X_v3)))\n",
    "print('New length: ' + str(len(X_v3_rs)))"
   ]
  },
  {
   "cell_type": "code",
   "execution_count": 35,
   "id": "b0b2cdd7",
   "metadata": {},
   "outputs": [
    {
     "name": "stdout",
     "output_type": "stream",
     "text": [
      "Training data length is: 8196\n",
      "Testing data length is: 2732\n"
     ]
    }
   ],
   "source": [
    "# Split data into train and test data\n",
    "X_v3_train, X_v3_test, y_v3_train, y_v3_test = train_test_split(X_v3_rs, y_v3_rs, random_state = 10)\n",
    "print('Training data length is: ' + str(len(X_v3_train)))\n",
    "print('Testing data length is: ' + str(len(X_v3_test)))"
   ]
  },
  {
   "cell_type": "code",
   "execution_count": 36,
   "id": "25ed4a68",
   "metadata": {},
   "outputs": [],
   "source": [
    "from sklearn.ensemble import GradientBoostingClassifier\n",
    "clf_BT = GradientBoostingClassifier()\n",
    "clf_BT.fit(X_v3_train, y_v3_train)  # Fit model\n",
    "prediction_BT = clf_BT.predict(X_v3_test)  # Generate predictions on test data"
   ]
  },
  {
   "cell_type": "code",
   "execution_count": 37,
   "id": "4bb2f050",
   "metadata": {},
   "outputs": [
    {
     "name": "stdout",
     "output_type": "stream",
     "text": [
      "precision: [0.8042328  0.80732484 0.98219585 0.87388724]\n",
      "recall: [0.87734488 0.71813031 0.99101796 0.88571429]\n",
      "fscore: [0.83919945 0.76011994 0.98658718 0.87976102]\n"
     ]
    }
   ],
   "source": [
    "# Precision, recall\n",
    "from sklearn.metrics import precision_recall_fscore_support as score\n",
    "\n",
    "precision, recall, fscore, support = score(y_v3_test, prediction_BT)\n",
    "\n",
    "print('precision: {}'.format(precision))\n",
    "print('recall: {}'.format(recall))\n",
    "print('fscore: {}'.format(fscore))"
   ]
  },
  {
   "cell_type": "code",
   "execution_count": 17,
   "id": "1a31c968",
   "metadata": {},
   "outputs": [
    {
     "data": {
      "image/png": "[encoded data removed]",
      "text/plain": [
       "<Figure size 864x720 with 2 Axes>"
      ]
     },
     "metadata": {
      "needs_background": "light"
     },
     "output_type": "display_data"
    }
   ],
   "source": [
    "import matplotlib.pyplot as plt\n",
    "import numpy as np\n",
    "from sklearn.metrics import confusion_matrix\n",
    "\n",
    "# Assuming you have defined `y_v3_test` and `prediction_BT` earlier\n",
    "labels = np.unique(np.concatenate((y_v3_test, prediction_BT)))  # Get unique labels\n",
    "\n",
    "cm = confusion_matrix(y_v3_test, prediction_BT)\n",
    "\n",
    "# Calculate confusion matrix percentages\n",
    "cm_percent = cm.astype('float') / cm.sum(axis=1)[:, np.newaxis] * 100\n",
    "\n",
    "plt.figure(figsize=(12, 10))\n",
    "\n",
    "font = {'family': 'Arial', 'size': 14}\n",
    "plt.rc('font', **font)\n",
    "\n",
    "plt.imshow(cm_percent, cmap='Greys', vmin=0, vmax=100)  # Adjust the colormap and limits\n",
    "plt.xlabel('Predicted Label', fontsize=14)\n",
    "plt.ylabel('True Label', fontsize=14)\n",
    "plt.xticks(np.arange(len(labels)), labels, fontsize=12, rotation=45)\n",
    "plt.yticks(np.arange(len(labels)), labels, fontsize=12)\n",
    "\n",
    "# Annotate cells with the confusion matrix percentages and actual labels\n",
    "for i in range(len(labels)):\n",
    "    for j in range(len(labels)):\n",
    "        plt.text(j, i, f'{cm_percent[i, j]:.2f}%', ha='center', va='center', fontsize=12, color='red')\n",
    "        plt.text(j, i - 0.2, f'({cm[i, j]})', ha='center', va='center', fontsize=10, color='blue')\n",
    "\n",
    "plt.colorbar(label='Percentage')\n",
    "\n",
    "plt.savefig(\"confusion_matrix_with_labels.png\", bbox_inches='tight', dpi=300)\n",
    "\n",
    "plt.show()\n"
   ]
  },
  {
   "cell_type": "code",
   "execution_count": 114,
   "id": "de8e7357",
   "metadata": {},
   "outputs": [
    {
     "name": "stdout",
     "output_type": "stream",
     "text": [
      "['/Users/dominickhellen/Downloads/heat map trial/tiles/ctls/c14/N-30 CTL 14_Scan1.qptiff - resolution #1.xlsx']\n"
     ]
    }
   ],
   "source": [
    "addl_scan_path = '/Users/dominickhellen/Downloads/heat map trial/tiles/ctls/c14'\n",
    "addl_scan_names = sorted(glob.glob(addl_scan_path + '/*.xlsx'))\n",
    "print(addl_scan_names)"
   ]
  },
  {
   "cell_type": "code",
   "execution_count": 115,
   "id": "a0453288",
   "metadata": {},
   "outputs": [
    {
     "name": "stdout",
     "output_type": "stream",
     "text": [
      "N-30 CTL 14_Scan1\n",
      "Raw count\n",
      "    0     1               Scan\n",
      "0  sc  1113  N-30 CTL 14_Scan1\n",
      "1  dp   562  N-30 CTL 14_Scan1\n",
      "2  cb   170  N-30 CTL 14_Scan1\n",
      "3   m   166  N-30 CTL 14_Scan1\n",
      "Percent\n",
      "    0          1               Scan\n",
      "0  sc  55.345599  N-30 CTL 14_Scan1\n",
      "1  dp  27.946295  N-30 CTL 14_Scan1\n",
      "2  cb   8.453506  N-30 CTL 14_Scan1\n",
      "3   m   8.254600  N-30 CTL 14_Scan1\n",
      "Mean Area per Class:\n",
      "                       Area  Solidity     Euler  Eccentricity\n",
      "Class assigned                                               \n",
      "cb              2234.400000  0.640202 -3.082353      0.729673\n",
      "dp              1024.519573  0.519340 -0.960854      0.904029\n",
      "m                 26.367470  0.776125  1.000000      0.909764\n",
      "sc               168.794250  0.618607  0.781671      0.836899\n"
     ]
    },
    {
     "name": "stderr",
     "output_type": "stream",
     "text": [
      "<ipython-input-115-a95d99f69e46>:35: SettingWithCopyWarning: \n",
      "A value is trying to be set on a copy of a slice from a DataFrame.\n",
      "Try using .loc[row_indexer,col_indexer] = value instead\n",
      "\n",
      "See the caveats in the documentation: https://pandas.pydata.org/pandas-docs/stable/user_guide/indexing.html#returning-a-view-versus-a-copy\n",
      "  df_scan_X['Class assigned'] = prediction_quant\n",
      "<ipython-input-115-a95d99f69e46>:36: FutureWarning: Indexing with multiple keys (implicitly converted to a tuple of keys) will be deprecated, use a list instead.\n",
      "  class_means = df_scan_X.groupby(['Class assigned'])['Area', 'Solidity', 'Euler', 'Eccentricity'].mean()\n"
     ]
    }
   ],
   "source": [
    "import pandas as pd\n",
    "import os\n",
    "from collections import Counter\n",
    "\n",
    "df_count = pd.DataFrame()\n",
    "df_percent = pd.DataFrame()\n",
    "mean_area_all_scans = pd.DataFrame(columns=['Scan', 'Class assigned', 'Mean Area'])\n",
    "\n",
    "\n",
    "# Assuming you have a list of filenames in 'addl_scan_names'\n",
    "for filename in addl_scan_names:\n",
    "    scan = os.path.basename(filename).split('.')[0]\n",
    "    print(scan)\n",
    "    \n",
    "    # Read excel file and add scan name\n",
    "    excel = pd.read_excel(filename, engine='openpyxl')\n",
    "\n",
    "    df_scan_X = excel[['Area', 'Solidity', 'Euler', 'Eccentricity']]\n",
    "    prediction_quant = clf_BT.predict(df_scan_X)\n",
    "\n",
    "    # Count number of predicted classes\n",
    "    c = Counter(prediction_quant)\n",
    "    print('Raw count')\n",
    "    raw_df = pd.DataFrame.from_dict([(i, c[i]) for i, count in c.most_common()])\n",
    "    raw_df['Scan'] = scan\n",
    "    print(raw_df)  # Not debugged\n",
    "    df_count = df_count.append(raw_df, ignore_index=True)\n",
    "    print('Percent')\n",
    "    per_df = pd.DataFrame.from_dict([(i, c[i] / len(prediction_quant) * 100.0) for i, count in c.most_common()])\n",
    "    per_df['Scan'] = scan\n",
    "    print(per_df)  # Not debugged\n",
    "    df_percent = df_percent.append(per_df, ignore_index=True)\n",
    "\n",
    "    # Print mean values per class\n",
    "    df_scan_X['Class assigned'] = prediction_quant\n",
    "    class_means = df_scan_X.groupby(['Class assigned'])['Area', 'Solidity', 'Euler', 'Eccentricity'].mean()\n",
    "    print(\"Mean Area per Class:\")\n",
    "    print(class_means)\n",
    "    \n",
    "    # Append the mean area data for the current scan to the DataFrame\n",
    "    mean_area_data_scan = class_means.reset_index()\n",
    "    mean_area_data_scan['Scan'] = scan\n",
    "    mean_area_all_scans = mean_area_all_scans.append(mean_area_data_scan, ignore_index=True)\n"
   ]
  },
  {
   "cell_type": "code",
   "execution_count": 116,
   "id": "2f607901",
   "metadata": {},
   "outputs": [
    {
     "name": "stdout",
     "output_type": "stream",
     "text": [
      "N-30 CTL 14_Scan1\n",
      "                                                  Image  \\\n",
      "0     Scan1.qptiff - resolution #1 [x=10240,y=15360,...   \n",
      "1     Scan1.qptiff - resolution #1 [x=10240,y=15360,...   \n",
      "2     Scan1.qptiff - resolution #1 [x=10240,y=15360,...   \n",
      "3     Scan1.qptiff - resolution #1 [x=10240,y=15360,...   \n",
      "4     Scan1.qptiff - resolution #1 [x=10240,y=15360,...   \n",
      "...                                                 ...   \n",
      "2006  Scan1.qptiff - resolution #1 [x=5120,y=35840,w...   \n",
      "2007  Scan1.qptiff - resolution #1 [x=5120,y=35840,w...   \n",
      "2008  Scan1.qptiff - resolution #1 [x=5120,y=35840,w...   \n",
      "2009  Scan1.qptiff - resolution #1 [x=5120,y=35840,w...   \n",
      "2010  Scan1.qptiff - resolution #1 [x=5120,y=35840,w...   \n",
      "\n",
      "                                      Centroid  x_coord  y_coord     SmallX  \\\n",
      "0     (18.529411764705884, 18.776470588235295)     1054      750   9.264706   \n",
      "1     (14.975609756097562, 24.048780487804876)     1398      793   7.487805   \n",
      "2     (15.978571428571428, 24.835714285714285)     1161      798   7.989286   \n",
      "3     (23.244897959183675, 26.638483965014576)     1290      836  11.622449   \n",
      "4         (48.542888165038, 49.49402823018458)     1441      869  24.271444   \n",
      "...                                        ...      ...      ...        ...   \n",
      "2006   (25.53846153846154, 16.369230769230768)     4801      248  12.769231   \n",
      "2007  (2.1666666666666665, 17.583333333333332)     4636      283   1.083333   \n",
      "2008   (18.574285714285715, 35.29714285714286)     4927      289   9.287143   \n",
      "2009                (17.4, 14.033333333333333)     5099      344   8.700000   \n",
      "2010    (18.85164835164835, 24.63186813186813)     3862      362   9.425824   \n",
      "\n",
      "        SmallY    BigX     BigY    medX   medY            X             Y  \n",
      "0     3.755294  5120.0   7680.0   527.0  375.0  5656.264706   8058.755294  \n",
      "1     4.809756  5120.0   7680.0   699.0  396.5  5826.487805   8081.309756  \n",
      "2     4.967143  5120.0   7680.0   580.5  399.0  5708.489286   8083.967143  \n",
      "3     5.327697  5120.0   7680.0   645.0  418.0  5776.622449   8103.327697  \n",
      "4     9.898806  5120.0   7680.0   720.5  434.5  5864.771444   8124.398806  \n",
      "...        ...     ...      ...     ...    ...          ...           ...  \n",
      "2006  3.273846  2560.0  17920.0  2400.5  124.0  4973.269231  18047.273846  \n",
      "2007  3.516667  2560.0  17920.0  2318.0  141.5  4879.083333  18065.016667  \n",
      "2008  7.059429  2560.0  17920.0  2463.5  144.5  5032.787143  18071.559429  \n",
      "2009  2.806667  2560.0  17920.0  2549.5  172.0  5118.200000  18094.806667  \n",
      "2010  4.926374  2560.0  17920.0  1931.0  181.0  4500.425824  18105.926374  \n",
      "\n",
      "[2011 rows x 12 columns]\n"
     ]
    }
   ],
   "source": [
    "# Only run this code if working with spatial remapping\n",
    "\n",
    "import os\n",
    "import pandas as pd\n",
    "\n",
    "df_count = pd.DataFrame()\n",
    "df_percent = pd.DataFrame()\n",
    "\n",
    "for filename in addl_scan_names:\n",
    "    \n",
    "    scan = os.path.basename(filename).split('.')[0]\n",
    "    \n",
    "    print(scan)\n",
    "    \n",
    "    # Read excel file and add scan name\n",
    "    excel = pd.read_excel(filename, engine='openpyxl')\n",
    "\n",
    "    # Extract the 'Centroid' column\n",
    "    df_scan_X = excel[['Image','Centroid','x_coord','y_coord']]\n",
    "    df = pd.DataFrame(df_scan_X)\n",
    "    df['SmallX'], df['SmallY'] = zip(*df['Centroid'].str.strip('()').str.split(', '))\n",
    "    \n",
    "    df['BigX'] = df['Image'].str.extract(r'x=(\\d+)').astype(int) * 0.5\n",
    "    df['BigY'] = df['Image'].str.extract(r'y=(\\d+)').astype(int) * 0.5\n",
    "\n",
    "    df['SmallX'] = df['SmallX'].astype(float) * 0.5\n",
    "    df['SmallY'] = df['SmallY'].astype(float) * 0.2\n",
    "    \n",
    "    df['medX'] = df['x_coord'].astype(int) * 0.5\n",
    "    df['medY'] = df['y_coord'].astype(int) * 0.5\n",
    "    \n",
    "    \n",
    "    df['X'] = df['BigX'].astype(int) + df['SmallX'] + df['medX']\n",
    "    df['Y'] = df['BigY'].astype(int) + df['SmallY'] + df['medY']\n",
    "    \n",
    "    # Display the resulting dataframe\n",
    "    print(df)\n"
   ]
  },
  {
   "cell_type": "code",
   "execution_count": 70,
   "id": "d259e294",
   "metadata": {},
   "outputs": [],
   "source": [
    "# Write these values to an excel sheet\n",
    "\n",
    "# Set up excel sheet\n",
    "writer = pd.ExcelWriter('P5k19final.xlsx', engine='openpyxl')  # To write excel sheets\n",
    "\n",
    "# Save sheets\n",
    "df_count.to_excel(writer, sheet_name='Counts, additional scans')\n",
    "df_percent.to_excel(writer, sheet_name='Percents, additional scans')\n",
    "mean_area_all_scans.to_excel(writer, sheet_name='Mean Area per Class (All Scans)')\n",
    "\n",
    "\n",
    "writer.save()\n",
    "writer.close()"
   ]
  },
  {
   "cell_type": "code",
   "execution_count": 117,
   "id": "692545d4",
   "metadata": {},
   "outputs": [],
   "source": [
    "#for mapping purposes - decisions\n",
    "data = {'Decision': prediction_quant[:10000]}\n",
    "dfs = pd.DataFrame(data, columns=['Decision'])\n",
    "\n",
    "#for mapping purposes - coordinates\n",
    "\n",
    "dftest = pd.DataFrame(df, columns=['X','Y'])\n",
    "combined_df = pd.concat([dftest, dfs], axis=1)\n",
    "\n",
    "\n",
    "#print(combined_df)\n",
    "\n",
    "# Save DataFrame to an Excel file\n",
    "combined_df.to_csv('/Users/dominickhellen/Downloads/heat map trial/tiles/ctls/c14/N-30 CTL 14_Scan1.qptiff - resolution #1.csv', index=False)"
   ]
  },
  {
   "cell_type": "code",
   "execution_count": null,
   "id": "d0071c6c",
   "metadata": {},
   "outputs": [],
   "source": []
  }
 ],
 "metadata": {
  "kernelspec": {
   "display_name": "Python 3",
   "language": "python",
   "name": "python3"
  },
  "language_info": {
   "codemirror_mode": {
    "name": "ipython",
    "version": 3
   },
   "file_extension": ".py",
   "mimetype": "text/x-python",
   "name": "python",
   "nbconvert_exporter": "python",
   "pygments_lexer": "ipython3",
   "version": "3.8.8"
  }
 },
 "nbformat": 4,
 "nbformat_minor": 5
}
